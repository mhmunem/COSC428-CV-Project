{
 "cells": [
  {
   "cell_type": "code",
   "execution_count": 3,
   "id": "b19c8bff",
   "metadata": {},
   "outputs": [],
   "source": [
    "import sys\n",
    "import os\n",
    "# Add the src directory to the Python path\n",
    "sys.path.append(os.path.abspath(os.path.join('..', 'src')))\n"
   ]
  },
  {
   "cell_type": "code",
   "execution_count": null,
   "id": "1a356ec3",
   "metadata": {},
   "outputs": [
    {
     "ename": "ModuleNotFoundError",
     "evalue": "No module named 'd01_data'",
     "output_type": "error",
     "traceback": [
      "\u001b[1;31m---------------------------------------------------------------------------\u001b[0m",
      "\u001b[1;31mModuleNotFoundError\u001b[0m                       Traceback (most recent call last)",
      "Cell \u001b[1;32mIn[1], line 1\u001b[0m\n\u001b[1;32m----> 1\u001b[0m \u001b[38;5;28;01mfrom\u001b[39;00m \u001b[38;5;21;01md01_data\u001b[39;00m\u001b[38;5;21;01m.\u001b[39;00m\u001b[38;5;21;01mload_data\u001b[39;00m \u001b[38;5;28;01mimport\u001b[39;00m download_data\n\u001b[0;32m      2\u001b[0m \u001b[38;5;28;01mfrom\u001b[39;00m \u001b[38;5;21;01md03_processing\u001b[39;00m\u001b[38;5;21;01m.\u001b[39;00m\u001b[38;5;21;01mcreate_train_test_data\u001b[39;00m \u001b[38;5;28;01mimport\u001b[39;00m processed_data\n\u001b[0;32m      3\u001b[0m \u001b[38;5;28;01mfrom\u001b[39;00m \u001b[38;5;21;01md04_modeling\u001b[39;00m \u001b[38;5;28;01mimport\u001b[39;00m train_model\n",
      "\u001b[1;31mModuleNotFoundError\u001b[0m: No module named 'd01_data'"
     ]
    }
   ],
   "source": [
    "from d01_data.load_data import download_data\n",
    "from d03_processing.create_train_test_data import processed_data\n",
    "from d04_modeling import train_model\n",
    "from tensorflow.keras.optimizers import Adam\n",
    "\n",
    "# Variables\n",
    "DATASET = \"IP\"\n",
    "TEST_RATIO = 0.80\n",
    "WINDOW_SIZE = 11\n",
    "DATA_PATH = \"../data/01_raw/\"\n",
    "LOSS ='categorical_crossentropy'\n",
    "OPTIMIZER = Adam(learning_rate=0.001)\n",
    "MATRICS = ['acc']\n",
    "MODEL_FOLDER = \"../data/04_models/\"\n",
    "\n",
    "download_data(data_type=DATASET, save_folder=DATA_PATH)\n",
    "X_train,y_train,X_test,y_test = processed_data(dataset=DATASET,test_ratio=TEST_RATIO,window_size=WINDOW_SIZE,data_path=DATA_PATH)\n",
    "S = X_train.shape[1]\n",
    "L = X_train.shape[-2]\n",
    "\n",
    "print(X_train.shape)\n",
    "print(y_train.shape)\n",
    "print(X_test.shape)\n",
    "print(y_test.shape)\n",
    "\n",
    "model = train_model.create_model(S=S,L=L,dataset=DATASET)\n",
    "model.summary()\n",
    "model.compile(\n",
    "    loss = LOSS,\n",
    "    optimizer = OPTIMIZER,\n",
    "    metrics = MATRICS\n",
    ")\n",
    "\n",
    "train_model.train_model(model=model,\n",
    "                        save_folder=MODEL_FOLDER,\n",
    "                        dataset=DATASET,\n",
    "                        X_train=X_train,\n",
    "                        y_train=y_train,\n",
    "                        X_val=None,\n",
    "                        y_val=None,\n",
    "                        epochs=50,\n",
    "                        batch_size=32)\n"
   ]
  },
  {
   "cell_type": "code",
   "execution_count": null,
   "id": "ec0dc708",
   "metadata": {},
   "outputs": [],
   "source": []
  }
 ],
 "metadata": {
  "kernelspec": {
   "display_name": "venv",
   "language": "python",
   "name": "python3"
  },
  "language_info": {
   "codemirror_mode": {
    "name": "ipython",
    "version": 3
   },
   "file_extension": ".py",
   "mimetype": "text/x-python",
   "name": "python",
   "nbconvert_exporter": "python",
   "pygments_lexer": "ipython3",
   "version": "3.9.13"
  }
 },
 "nbformat": 4,
 "nbformat_minor": 5
}
